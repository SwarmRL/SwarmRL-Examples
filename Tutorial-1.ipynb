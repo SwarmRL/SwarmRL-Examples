{
 "cells": [
  {
   "cell_type": "markdown",
   "id": "8063f6a5",
   "metadata": {},
   "source": [
    "# Tutorial 1: Getting Started with SwarmRL"
   ]
  },
  {
   "cell_type": "markdown",
   "id": "9da1065f",
   "metadata": {},
   "source": [
    "This small tutorial will walkthrough some important componants of the SwarmRL library and how it can be used. In this lesson you will learn the following:\n",
    "\n",
    "* Installing SwarmRL\n",
    "* Importing SwarmRL into your project\n",
    "* Running a simple simulation\n",
    "\n",
    "Once you are finished with this tutorial you will be able to run a small simulation using the library and look at the results."
   ]
  },
  {
   "cell_type": "markdown",
   "id": "5f86120f",
   "metadata": {},
   "source": [
    "## Imports\n",
    "\n",
    "The first thing you need to do is import the library. For this tutorial, we will also be important the espresso engine seperately to save time later as well as a few helper libraries for looking at the finished simulation."
   ]
  },
  {
   "cell_type": "code",
   "execution_count": null,
   "id": "9ed9a943",
   "metadata": {},
   "outputs": [],
   "source": [
    "# SwarmRL Imports\n",
    "import swarmrl as srl\n",
    "import swarmrl.engine.espresso as espresso\n",
    "\n",
    "# Unit Handling\n",
    "import pint\n",
    "\n",
    "# Linalg and Data Handling\n",
    "import numpy as np\n",
    "import h5py as hf\n",
    "\n",
    "# Plotting\n",
    "import matplotlib.pyplot as plt"
   ]
  },
  {
   "cell_type": "markdown",
   "id": "a0e09326",
   "metadata": {},
   "source": [
    "## Building the simulation\n",
    "\n",
    "Now we can build up the system we want to simulate. This requires the following steps:\n",
    "\n",
    "* Define the unit registry\n",
    "* Define some simulation parameters\n",
    "* Build an EspressoMD object\n",
    "\n",
    "Important to note in SwarmRL is the difference between the time step and the time slice. The time step is the integrator step, i.e, how far in time you jump in the integrator. The time slice is how often the external force model is used to move the colloids. These should rarely be the same time and are often bound by an experiment. In the real world, your time step is a infinitesimally small number and the time slice might be 10 seconds."
   ]
  },
  {
   "cell_type": "code",
   "execution_count": null,
   "id": "7e90a211",
   "metadata": {},
   "outputs": [],
   "source": [
    "ureg = pint.UnitRegistry()"
   ]
  },
  {
   "cell_type": "code",
   "execution_count": null,
   "id": "7e6512a6",
   "metadata": {},
   "outputs": [],
   "source": [
    "md_params = espresso.MDParams(\n",
    "            ureg=ureg,\n",
    "            fluid_dyn_viscosity=ureg.Quantity(8.9e-4, \"pascal * second\"),\n",
    "            WCA_epsilon=ureg.Quantity(293, \"kelvin\") * ureg.boltzmann_constant,\n",
    "            temperature=ureg.Quantity(293, \"kelvin\"),\n",
    "            box_length=ureg.Quantity(3 * [1000], \"micrometer\"),\n",
    "            time_slice=ureg.Quantity(0.2, \"second\"),  # model timestep\n",
    "            time_step=ureg.Quantity(0.2, \"second\") / 5,  # integrator timestep\n",
    "            write_interval=ureg.Quantity(2, \"second\"),\n",
    "        )"
   ]
  },
  {
   "cell_type": "code",
   "execution_count": null,
   "id": "9b2f7a62",
   "metadata": {},
   "outputs": [],
   "source": [
    "system_runner = espresso.EspressoMD(\n",
    "            md_params=md_params,\n",
    "            n_dims=2,\n",
    "            seed=42,  # seed for the simulation velocities\n",
    "            out_folder=\"tutorial-1\",\n",
    "            write_chunk_size=1000,  # Used for dumping to the database.\n",
    "        )"
   ]
  },
  {
   "cell_type": "markdown",
   "id": "22642b6b",
   "metadata": {},
   "source": [
    "## Adding colloids\n",
    "\n",
    "Right now you have an empty simulation box with some fluid properties. Now we need to add in the particles. In this case, to show off what SwarmRL can do, we will add particles of three different species (or types) to the simulation."
   ]
  },
  {
   "cell_type": "code",
   "execution_count": null,
   "id": "fcfbf301",
   "metadata": {},
   "outputs": [],
   "source": [
    "system_runner.add_colloids(\n",
    "            n_colloids=10,  # Let's make 10 of them\n",
    "            radius_colloid=ureg.Quantity(1.0, \"micrometer\"),\n",
    "            random_placement_center=ureg.Quantity(\n",
    "                np.array([500, 500, 0]), \"micrometer\"\n",
    "            ),\n",
    "            random_placement_radius=ureg.Quantity(60, \"micrometer\"),\n",
    "            type_colloid=0,  # These ones are type 0\n",
    "        )"
   ]
  },
  {
   "cell_type": "code",
   "execution_count": null,
   "id": "b319e3fc",
   "metadata": {},
   "outputs": [],
   "source": [
    "system_runner.add_colloids(\n",
    "            n_colloids=10,  # Let's make 10 of them\n",
    "            radius_colloid=ureg.Quantity(2.0, \"micrometer\"),\n",
    "            random_placement_center=ureg.Quantity(\n",
    "                np.array([500, 500, 0]), \"micrometer\"\n",
    "            ),\n",
    "            random_placement_radius=ureg.Quantity(60, \"micrometer\"),\n",
    "            type_colloid=1,  # These ones are type 1\n",
    "        )"
   ]
  },
  {
   "cell_type": "code",
   "execution_count": null,
   "id": "15896480",
   "metadata": {},
   "outputs": [],
   "source": [
    "system_runner.add_colloids(\n",
    "            n_colloids=10,  # Let's make 10 of them\n",
    "            radius_colloid=ureg.Quantity(3.0, \"micrometer\"),\n",
    "            random_placement_center=ureg.Quantity(\n",
    "                np.array([500, 500, 0]), \"micrometer\"\n",
    "            ),\n",
    "            random_placement_radius=ureg.Quantity(60, \"micrometer\"),\n",
    "            type_colloid=2,  # These ones are type 2\n",
    "        )"
   ]
  },
  {
   "cell_type": "markdown",
   "id": "ea8491e4",
   "metadata": {},
   "source": [
    "## Running the simulation\n",
    "\n",
    "Now we can run the simulation for a few timesteps by simply calling integrate. Note that it is at this stage that an external force model could be added to the simulation to apply a force other than Brownian motion."
   ]
  },
  {
   "cell_type": "code",
   "execution_count": null,
   "id": "6b0de58f",
   "metadata": {},
   "outputs": [],
   "source": [
    "system_runner.integrate(n_slices=10000)"
   ]
  },
  {
   "cell_type": "markdown",
   "id": "e1d76207",
   "metadata": {},
   "source": [
    "## Analysing the simulation\n",
    "\n",
    "Now we can look at the simulation data we have generated. Here we will perform the following:\n",
    "\n",
    "1. Use matplotlib to visualize trajectories\n",
    "2. Use the ZnVis library to visualize them in 3D\n",
    "\n",
    "The first thing we need to do is load the data using H5PY as follows."
   ]
  },
  {
   "cell_type": "code",
   "execution_count": null,
   "id": "dbd0fe4e",
   "metadata": {},
   "outputs": [],
   "source": [
    "with hf.File(\"tutorial-1/trajectory.hdf5\", 'r') as db:\n",
    "    position_data = db[\"colloids\"][\"Unwrapped_Positions\"][:]\n",
    "    type_data = db[\"colloids\"][\"Types\"][:]"
   ]
  },
  {
   "cell_type": "markdown",
   "id": "9d34a605",
   "metadata": {},
   "source": [
    "The type data shows us that for all time, the first 10 points are colloid 1, from 10 to 20 are colloid 2, and the rest are colloid 3. So let's split the data up for convenience."
   ]
  },
  {
   "cell_type": "code",
   "execution_count": null,
   "id": "11239b36",
   "metadata": {},
   "outputs": [],
   "source": [
    "colloid_1 = position_data[:, :10, :]\n",
    "colloid_2 = position_data[:, 10:20, :]\n",
    "colloid_3 = position_data[:, 20:, :]"
   ]
  },
  {
   "cell_type": "markdown",
   "id": "3bd809bc",
   "metadata": {},
   "source": [
    "Now we can use matplotlib to visualize the trajectory."
   ]
  },
  {
   "cell_type": "code",
   "execution_count": null,
   "id": "dd41214e",
   "metadata": {},
   "outputs": [],
   "source": [
    "# Trailing lines\n",
    "plt.plot(colloid_1[:, :, 0], colloid_1[:, :, 1], 'r')\n",
    "plt.plot(colloid_2[:, :, 0], colloid_2[:, :, 1], 'g')\n",
    "plt.plot(colloid_3[:, :, 0], colloid_3[:, :, 1], 'b')\n",
    "\n",
    "# Final positions\n",
    "plt.plot(colloid_1[0, :, 0], colloid_1[0, :, 1], 'ko', markersize=10)\n",
    "plt.plot(colloid_2[0, :, 0], colloid_2[0, :, 1], 'ko', markersize=12)\n",
    "plt.plot(colloid_3[0, :, 0], colloid_3[0, :, 1], 'ko', markersize=15)\n",
    "\n",
    "plt.show()"
   ]
  },
  {
   "cell_type": "markdown",
   "id": "b3912609",
   "metadata": {},
   "source": [
    "We have scaled up the marker sizes according to the simulation choice. We can see here a lot of randomness due to the Brownian motion."
   ]
  },
  {
   "cell_type": "markdown",
   "id": "f4628820",
   "metadata": {},
   "source": [
    "## Summing up\n",
    "\n",
    "You have made it to the end of tutorial 1 on SwarmRL. We hope it has been informative and a good introduction to the very foundations of the package. Next up we show how to add a classical model to these simulations and start to see some collective behaviour."
   ]
  }
 ],
 "metadata": {
  "kernelspec": {
   "display_name": "Python 3 (ipykernel)",
   "language": "python",
   "name": "python3"
  },
  "language_info": {
   "codemirror_mode": {
    "name": "ipython",
    "version": 3
   },
   "file_extension": ".py",
   "mimetype": "text/x-python",
   "name": "python",
   "nbconvert_exporter": "python",
   "pygments_lexer": "ipython3",
   "version": "3.11.5"
  }
 },
 "nbformat": 4,
 "nbformat_minor": 5
}
